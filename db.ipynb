{
 "cells": [
  {
   "cell_type": "markdown",
   "metadata": {},
   "source": [
    "# Database Initiation and Further Statistical Analysis\n",
    "## Initiate and Import Required Dependencies, Packages, APIs, and Project-Specific Methods"
   ]
  },
  {
   "cell_type": "code",
   "execution_count": 6,
   "metadata": {},
   "outputs": [],
   "source": [
    "# Miscelaneous\n",
    "import matplotlib.mlab as mlab\n",
    "import numpy as np\n",
    "from pprint import pprint\n",
    "import json\n",
    "\n",
    "# Utilities\n",
    "import pandas as pd\n",
    "import networkx as nx\n",
    "import re\n",
    "\n",
    "# Plotting\n",
    "import matplotlib.pyplot as plt\n",
    "\n",
    "# APIs\n",
    "import pymongo\n",
    "import tweepy\n",
    "import googlemaps\n",
    "\n",
    "# Analysis\n",
    "import math\n",
    "from scipy import stats\n",
    "from scipy.stats import norm\n",
    "\n",
    "# Get API Keys\n",
    "file_path = 'keys.txt'\n",
    "with open(file_path, 'r') as file:\n",
    "    keys = file.readlines()"
   ]
  },
  {
   "cell_type": "code",
   "execution_count": 7,
   "metadata": {},
   "outputs": [],
   "source": [
    "import mongosna"
   ]
  },
  {
   "cell_type": "code",
   "execution_count": 8,
   "metadata": {},
   "outputs": [],
   "source": [
    "google = keys[0]\n",
    "mongo = \"mongodb://localhost:27017/\"\n",
    "twitter = keys[1]\n",
    "\n",
    "gmaps_client = mongosna.gmaps_client = googlemaps.Client(key=google) # Initiate connection to GoogleMaps API\n",
    "db_client = mongosna.db_client = pymongo.MongoClient(mongo) # Initiate connection to MongoDB\n",
    "tweepy_client = mongosna.tweepy_client = tweepy.Client(bearer_token=twitter, wait_on_rate_limit=True, return_type=[dict]) # Initiate tweepy client"
   ]
  },
  {
   "cell_type": "code",
   "execution_count": null,
   "metadata": {},
   "outputs": [],
   "source": [
    "pFollower = mongosna.pFollower = mongosna.db_client.sna_database.primaryFollowers\n",
    "sFollower = mongosna.sFollower = mongosna.db_client.sna_database.secondaryFollowers\n",
    "sFollowing = mongosna.sFollowing = mongosna.db_client.sna_database.secondaryFollowing\n",
    "combined = mongosna.combined = mongosna.db_client.sna_database.combined\n",
    "sna_database = mongosna.sna_database = mongosna.db_client.sna_database\n",
    "df_pFollower = mongosna.df_pFollower = pd.DataFrame(list(mongosna.pFollower.find()))\n",
    "df_sFollower = mongosna.df_sFollower = pd.DataFrame(list(mongosna.sFollower.find().sort(\"_id\",1)))\n",
    "df_sFollowing = mongosna.df_sFollowing = pd.DataFrame(list(mongosna.sFollowing.find().sort(\"_id\",1)))"
   ]
  },
  {
   "cell_type": "markdown",
   "metadata": {},
   "source": [
    "## Primary Followers\n",
    "### Create and Insert User Information into Database\n",
    "Using the `pymongo` and `tweepy` APIs we will be fetching a more complete dataset of the followers of the Missoula County Twitter account. This will allow us to do further analysis on:<br>\n",
    "* Followers, following, and tweet count,\n",
    "* Location,\n",
    "* Sentiment based on account description,\n",
    "* Verified accounts<br>\n",
    "Now that we have a more complete set of user information, we can include that data in our `nodes.csv` file for when we analyze with Gephi."
   ]
  },
  {
   "cell_type": "code",
   "execution_count": null,
   "metadata": {},
   "outputs": [],
   "source": [
    "fields = [\"description\",\"location\",\"entities\",\"verified\",\"public_metrics\",\"profile_image_url\"]\n",
    "_id = 0\n",
    "users = list(df_pFollower['Id'])\n",
    "\n",
    "for user in users:\n",
    "    response = tweepy_client.get_user(id=user, user_fields=fields)\n",
    "\n",
    "    userDoc = {\n",
    "        '_id':_id,\n",
    "        'username':response.data.username,\n",
    "        'userID':response.data.id,\n",
    "        'description':response.data.description,\n",
    "        'location':response.data.location,\n",
    "        'followers':response.data.public_metrics['followers_count'],\n",
    "        'following':response.data.public_metrics['following_count'],\n",
    "        'tweet_count':response.data.public_metrics['tweet_count'],\n",
    "        'verified':response.data.verified,\n",
    "        'profile_image_url':response.data.profile_image_url\n",
    "    }\n",
    "\n",
    "    pFollower.insert_one(userDoc)\n",
    "    _id += 1\n"
   ]
  },
  {
   "cell_type": "markdown",
   "metadata": {},
   "source": [
    "### Filter Users Based on Location\n",
    "Since we are connected to a MongoDB Database, we are able to query the documents for users with their locations set to Montana, Missoula, or any other variation on the name \"Montana\".<br>\n",
    "This variations include:\n",
    "* Big Sky Country,\n",
    "* Last Best Place,\n",
    "* Montucky,\n",
    "* and Mont"
   ]
  },
  {
   "cell_type": "code",
   "execution_count": null,
   "metadata": {},
   "outputs": [],
   "source": [
    "query = {\"location\": {\"$regex\": \".*mt.*|.*mont.*|.*missoula.*|.*last best place.*|.*big sky.*\",\"$options\":\"i\"}}\n",
    "mt_users = pd.DataFrame(list(pFollower.find(query)))\n",
    "mt_users['description'] = mt_users.replace({r'\\s+$': '', r'^\\s+': ''}, regex=True, inplace=True)\n",
    "# mt_users.to_csv(\"pFollowers/pFollower_MT_info.csv\",index=False)\n",
    "mt_users.head()"
   ]
  },
  {
   "cell_type": "code",
   "execution_count": null,
   "metadata": {},
   "outputs": [],
   "source": [
    "# Add 'in_montana' column to DataFrame\n",
    "mt_ids = list(mt_users['userID'])\n",
    "user_id = list(df_pFollower['userID'])\n",
    "bool_list = []\n",
    "\n",
    "for id in user_id:\n",
    "    if id in mt_ids:\n",
    "        bool_list.append(True)\n",
    "    else:\n",
    "        bool_list.append(False)\n",
    "df_pFollower.insert(loc=10,column='in_montana',value=bool_list)\n",
    "\n",
    "# Add 'in_montana' to database\n",
    "\n",
    "in_montana = list(df_pFollower['in_montana'])\n",
    "iter = 0\n",
    "for id in user_id:\n",
    "    query = { 'userID' : id }\n",
    "    value = { '$set' : { 'in_montana' : in_montana[iter]}}\n",
    "    iter += 1\n",
    "    pFollower.update_one(query,value)\n"
   ]
  },
  {
   "cell_type": "markdown",
   "metadata": {},
   "source": [
    "Now that we have updated and inserted new data into the pandas DataFrame, we can now updated our `nodes.csv` file, allowing us more granular control over the visualizations down the line.<br>\n",
    "We remove the `'_id'` column as it is unnecessary for the visualizations."
   ]
  },
  {
   "cell_type": "code",
   "execution_count": null,
   "metadata": {},
   "outputs": [],
   "source": [
    "df_pFollower.drop(columns=[\"_id\"],inplace=True)\n",
    "df_pFollower.to_csv(\"pFollowers/nodes.csv\",index=False)"
   ]
  },
  {
   "cell_type": "markdown",
   "metadata": {},
   "source": [
    "### Geocoding\n",
    "In order to visualize where the users are in relation to the Missoula County, we need to geocode the location data that we have."
   ]
  },
  {
   "cell_type": "code",
   "execution_count": null,
   "metadata": {},
   "outputs": [],
   "source": [
    "query = {'location':{'$ne':None}}\n",
    "geoData = pd.DataFrame(list(pFollower.find(query)))\n",
    "# Add Geocoded data to database\n",
    "geoData['lat'] = geoData['location'].apply(mongosna.geocode_lat)\n",
    "geoData['lng'] = geoData['location'].apply(mongosna.geocode_lng)\n",
    "\n",
    "lat = list(geoData['lat'])\n",
    "lng = list(geoData['lng'])\n",
    "geo_ids = list(geoData['_id'])\n",
    "user_ids = list(df_pFollower['_id'])\n",
    "\n",
    "mongosna.add_geo(lat,lng,geo_ids,user_ids,pFollower)"
   ]
  },
  {
   "cell_type": "markdown",
   "metadata": {},
   "source": [
    "TODO: idk something cool"
   ]
  },
  {
   "cell_type": "markdown",
   "metadata": {},
   "source": [
    "### Analysis\n",
    "Now that we have information like followers, following, and tweet count, we can get a better picture as to how this group of users statistically looks. Here we are using the built in `mean()`, `median()`, `mode()`, `min()`, `max()`, `std()`, and `var()` methods from `pandas`.<br>\n",
    "<br>\n",
    "The following analysis is on the whole dataset. Following this we will analyze the users in Montana."
   ]
  },
  {
   "cell_type": "code",
   "execution_count": null,
   "metadata": {},
   "outputs": [],
   "source": [
    "mongosna.stats(df=df_pFollower,output_path='pFollowers/stats.json')"
   ]
  },
  {
   "cell_type": "code",
   "execution_count": null,
   "metadata": {},
   "outputs": [],
   "source": [
    "mongosna.makeStatsGraph(output_path='pFollowers/figs/followers.png',\n",
    "               data_list=list(df_pFollower['followers']),\n",
    "               xlabel='Followers',\n",
    "               title=r'$\\mathrm{Histogram\\ of\\ Followers:}\\ \\mu=%.3f,\\ \\sigma=%.3f$')"
   ]
  },
  {
   "cell_type": "code",
   "execution_count": null,
   "metadata": {},
   "outputs": [],
   "source": [
    "mongosna.makeStatsGraph(output_path='pFollowers/figs/following.png',\n",
    "               data_list=list(df_pFollower['following']),\n",
    "               xlabel='Following',\n",
    "               title=r'$\\mathrm{Histogram\\ of\\ Following:}\\ \\mu=%.3f,\\ \\sigma=%.3f$')"
   ]
  },
  {
   "cell_type": "code",
   "execution_count": null,
   "metadata": {},
   "outputs": [],
   "source": [
    "mongosna.makeStatsGraph(output_path='pFollowers/figs/tweetcount.png',\n",
    "               data_list=list(df_pFollower['tweet_count']),\n",
    "               xlabel='Tweets',\n",
    "               title=r'$\\mathrm{Histogram\\ of\\ Tweet Count:}\\ \\mu=%.3f,\\ \\sigma=%.3f$')"
   ]
  },
  {
   "cell_type": "markdown",
   "metadata": {},
   "source": [
    "#### Analysis of Montana Users"
   ]
  },
  {
   "cell_type": "code",
   "execution_count": 18,
   "metadata": {},
   "outputs": [],
   "source": [
    "query = {\"in_montana\": True}\n",
    "mt_users = pd.DataFrame(list(pFollower.find(query)))\n",
    "mongosna.stats(mt_users,output_path='pFollowers/stats/mt_stats.json')"
   ]
  },
  {
   "cell_type": "code",
   "execution_count": null,
   "metadata": {},
   "outputs": [],
   "source": [
    "mongosna.makeStatsGraph(data_list=list(mt_users['followers']),\n",
    "               xlabel='Followers',\n",
    "               title=r'$\\mathrm{Histogram\\ of\\ Followers:}\\ \\mu=%.3f,\\ \\sigma=%.3f$',\n",
    "               output_path = 'pFollowers/figs/mt_users/followers_mt.png')"
   ]
  },
  {
   "cell_type": "code",
   "execution_count": null,
   "metadata": {},
   "outputs": [],
   "source": [
    "mongosna.makeStatsGraph(data_list=list(mt_users['following']),\n",
    "               xlabel='Following',\n",
    "               title=r'$\\mathrm{Histogram\\ of\\ Following:}\\ \\mu=%.3f,\\ \\sigma=%.3f$',\n",
    "               output_path = 'pFollowers/figs/mt_users/following_mt.png')"
   ]
  },
  {
   "cell_type": "code",
   "execution_count": null,
   "metadata": {},
   "outputs": [],
   "source": [
    "mongosna.makeStatsGraph(data_list=list(mt_users['tweet_count']),\n",
    "               xlabel='Tweets',\n",
    "               title=r'$\\mathrm{Histogram\\ of\\ Tweet Count:}\\ \\mu=%.3f,\\ \\sigma=%.3f$',\n",
    "               output_path = 'pFollowers/figs/mt_users/tweetcount_mt.png')"
   ]
  },
  {
   "cell_type": "markdown",
   "metadata": {},
   "source": [
    "## Secondary Followers\n",
    "### Data Cleaning and Preparation\n",
    "Based on the community detection algorithm ran previously, we are able to put those values into the database."
   ]
  },
  {
   "cell_type": "code",
   "execution_count": null,
   "metadata": {},
   "outputs": [],
   "source": [
    "# Add already existing users to secondaryFollowers Collection\n",
    "df_sFollowerNodes = pd.read_csv('sFollowers/nodes.csv')\n",
    "sFollower = sna_database[\"secondaryFollowers\"]\n",
    "list_pFollowers = list(df_pFollower['Id'])\n",
    "list_sFollowers = list(df_sFollowerNodes['id'])\n",
    "temp = [user for user in list_pFollowers if user in list_sFollowers]\n",
    "\n",
    "for i in range(len(temp)):\n",
    "    userDoc = pFollower.find_one({\"userID\":temp[i]})\n",
    "    sFollower.insert_one(userDoc)"
   ]
  },
  {
   "cell_type": "code",
   "execution_count": null,
   "metadata": {},
   "outputs": [],
   "source": [
    "# Add the new users to the secondaryFollowers Collection\n",
    "fields = [\"description\",\"location\",\"entities\",\"verified\",\"public_metrics\",\"profile_image_url\"]\n",
    "_id = 0\n",
    "temp = [user for user in list_sFollowers if user not in list_pFollowers]\n",
    "for i in range(len(temp)):\n",
    "    user = temp[i]\n",
    "    query = {\"_id\":_id}\n",
    "    test = sFollower.find_one(query)\n",
    "    if type(test) != dict:\n",
    "        try:\n",
    "            response = api.get_user(id=user, user_fields=fields)\n",
    "\n",
    "            userDoc = {\n",
    "                '_id':_id,\n",
    "                'username':response.data.username,\n",
    "                'userID':response.data.id,\n",
    "                'description':response.data.description,\n",
    "                'location':response.data.location,\n",
    "                'followers':response.data.public_metrics['followers_count'],\n",
    "                'following':response.data.public_metrics['following_count'],\n",
    "                'tweet_count':response.data.public_metrics['tweet_count'],\n",
    "                'verified':response.data.verified,\n",
    "                'profile_image_url':response.data.profile_image_url\n",
    "            }\n",
    "\n",
    "            sFollower.insert_one(userDoc)\n",
    "        except:\n",
    "            print(str(user) + \" no longer exists\")\n",
    "    else:\n",
    "        pass\n",
    "    _id += 1"
   ]
  },
  {
   "cell_type": "code",
   "execution_count": null,
   "metadata": {},
   "outputs": [],
   "source": [
    "# Add geocoded Data to the database\n",
    "query = {'location': {'$ne': None}}\n",
    "geoData = pd.DataFrame(list(sFollower.find(query).sort(\"_id\",1)))\n",
    "\n",
    "geoData['lat'] = geoData['location'].apply(mongosna.geocode_lat)\n",
    "geoData['lng'] = geoData['location'].apply(mongosna.geocode_lng)\n",
    "\n",
    "lat = list(geoData['lat'])\n",
    "lng = list(geoData['lng'])\n",
    "geo_ids = list(geoData['_id'])\n",
    "iter = 0\n",
    "\n",
    "for id in geo_ids:\n",
    "    query = { '_id' : id }\n",
    "    value = { '$set' : { 'lat' : lat[iter], 'lng': lng[iter]}}\n",
    "    iter += 1\n",
    "    sFollower.update_one(query,value)"
   ]
  },
  {
   "cell_type": "code",
   "execution_count": null,
   "metadata": {},
   "outputs": [],
   "source": [
    "# Check if user is in montana\n",
    "query = {\"location\": {\"$regex\": \".*mt.*|.*mont.*|.*missoula.*|.*last best place.*|.*big sky.*\",\"$options\":\"i\"}}\n",
    "mt_users = pd.DataFrame(list(sFollower.find(query)))\n",
    "mt_users['description'] = mt_users.replace({r'\\s+$': '', r'^\\s+': ''}, regex=True, inplace=True)\n",
    "\n",
    "# Add 'in_montana' column to DataFrame\n",
    "df_sFollower.drop(columns=\"in_montana\",inplace=True)\n",
    "mt_ids = list(mt_users['userID'])\n",
    "user_id = list(df_sFollower['userID'])\n",
    "bool_list = []\n",
    "\n",
    "for id in user_id:\n",
    "    if id in mt_ids:\n",
    "        bool_list.append(True)\n",
    "    else:\n",
    "        bool_list.append(False)\n",
    "df_sFollower.insert(loc=10,column='in_montana',value=bool_list)\n",
    "\n",
    "# Add 'in_montana' to database\n",
    "\n",
    "in_montana = list(df_sFollower['in_montana'])\n",
    "iter = 0\n",
    "for id in user_id:\n",
    "    query = { 'userID' : id }\n",
    "    value = { '$set' : { 'in_montana' : in_montana[iter]}}\n",
    "    iter += 1\n",
    "    sFollower.update_one(query,value)\n"
   ]
  },
  {
   "cell_type": "markdown",
   "metadata": {},
   "source": [
    "### Remove Users from the Edges Table if they are not in the Database"
   ]
  },
  {
   "cell_type": "code",
   "execution_count": null,
   "metadata": {},
   "outputs": [],
   "source": [
    "df_sFollowerEdges = pd.read_csv(\"sFollowers/edges.csv\")\n",
    "sFollower_ids = list(df_sFollower['userID'])\n",
    "\n",
    "for i in range(len(sFollower_ids)):\n",
    "    df_sFollowerEdges = df_sFollowerEdges.loc[df_sFollowerEdges['target'] != sFollower_ids[i]]\n",
    "\n",
    "df_sFollowerEdges.to_csv('sFollowers/edges.csv',index=False)\n",
    "df_sFollowerEdges.info()"
   ]
  },
  {
   "cell_type": "markdown",
   "metadata": {},
   "source": [
    "### Analysis"
   ]
  },
  {
   "cell_type": "code",
   "execution_count": null,
   "metadata": {},
   "outputs": [],
   "source": [
    "mongosna.stats(df=df_sFollower,output_path='sFollowers/stats.json')"
   ]
  },
  {
   "cell_type": "code",
   "execution_count": null,
   "metadata": {},
   "outputs": [],
   "source": [
    "mongosna.makeStatsGraph(list(df_sFollower['followers']),\n",
    "               xlabel='Followers',\n",
    "               title=r'$\\mathrm{Histogram\\ of\\ Followers:}\\ \\mu=%.3f,\\ \\sigma=%.3f$',\n",
    "               output_path = 'sFollowers/figs/followers.png')"
   ]
  },
  {
   "cell_type": "code",
   "execution_count": null,
   "metadata": {},
   "outputs": [],
   "source": [
    "mongosna.makeStatsGraph(list(df_sFollower['following']),\n",
    "               xlabel='Following',\n",
    "               title=r'$\\mathrm{Histogram\\ of\\ Following:}\\ \\mu=%.3f,\\ \\sigma=%.3f$',\n",
    "               output_path = 'sFollowers/figs/following.png')"
   ]
  },
  {
   "cell_type": "code",
   "execution_count": null,
   "metadata": {},
   "outputs": [],
   "source": [
    "mongosna.makeStatsGraph(list(df_sFollower['tweet_count']),\n",
    "               xlabel='Following',\n",
    "               title=r'$\\mathrm{Histogram\\ of\\ Following:}\\ \\mu=%.3f,\\ \\sigma=%.3f$',\n",
    "               output_path = 'sFollowers/figs/following.png')"
   ]
  },
  {
   "cell_type": "markdown",
   "metadata": {},
   "source": [
    "#### Analysis of Montana Users"
   ]
  },
  {
   "cell_type": "code",
   "execution_count": 26,
   "metadata": {},
   "outputs": [],
   "source": [
    "query = {\"in_montana\": True}\n",
    "mt_users = pd.DataFrame(list(sFollower.find(query)))\n",
    "mongosna.stats(df=df_sFollower,output_path='sFollowers/mt_stats.json')"
   ]
  },
  {
   "cell_type": "code",
   "execution_count": null,
   "metadata": {},
   "outputs": [],
   "source": [
    "mongosna.makeStatsGraph(data_list=list(mt_users['followers']),\n",
    "               xlabel='Followers',\n",
    "               title=r'$\\mathrm{Histogram\\ of\\ Followers:}\\ \\mu=%.3f,\\ \\sigma=%.3f$',\n",
    "               output_path='sFollowers/figs/mt_users/followers_mt.png')"
   ]
  },
  {
   "cell_type": "code",
   "execution_count": null,
   "metadata": {},
   "outputs": [],
   "source": [
    "mongosna.makeStatsGraph(data_list=list(mt_users['following']),\n",
    "               xlabel='Following',\n",
    "               title=r'$\\mathrm{Histogram\\ of\\ Following:}\\ \\mu=%.3f,\\ \\sigma=%.3f$',\n",
    "               output_path='sFollowers/figs/mt_users/following_mt.png')"
   ]
  },
  {
   "cell_type": "code",
   "execution_count": null,
   "metadata": {},
   "outputs": [],
   "source": [
    "mongosna.makeStatsGraph(data_list=list(mt_users['tweet_count']),\n",
    "               xlabel='Tweets',\n",
    "               title=r'$\\mathrm{Histogram\\ of\\ Tweet Count:}\\ \\mu=%.3f,\\ \\sigma=%.3f$',\n",
    "               output_path='sFollowers/figs/mt_users/tweetcount_mt.png')"
   ]
  },
  {
   "cell_type": "markdown",
   "metadata": {},
   "source": [
    "## Secondary Following"
   ]
  },
  {
   "cell_type": "code",
   "execution_count": 16,
   "metadata": {},
   "outputs": [],
   "source": [
    "temp = pd.read_csv('sFollowing/nodes.csv')\n",
    "temp.drop(columns=['Unnamed: 0'],inplace=True)\n",
    "temp.to_csv('sFollowing/nodes.csv',index=False)"
   ]
  },
  {
   "cell_type": "code",
   "execution_count": 17,
   "metadata": {},
   "outputs": [],
   "source": [
    "temp = pd.read_csv('sFollowing/edges.csv')\n",
    "temp.drop(columns=['lre'],inplace=True)\n",
    "temp.to_csv('sFollowing/edges.csv',index=False)"
   ]
  },
  {
   "cell_type": "code",
   "execution_count": 5,
   "metadata": {},
   "outputs": [],
   "source": [
    "# Add already existing users to secondaryFollowers Collection\n",
    "\n",
    "df_sFollowingNodes = pd.read_csv('sFollowing/nodes.csv')\n",
    "df_sFollowingNodes.drop(columns=[\"degree\"],inplace=True)\n",
    "\n",
    "list_pFollowers = list(df_pFollower['userID'])\n",
    "list_sFollowing = list(df_sFollowingNodes['id'])\n",
    "temp = [user for user in list_pFollowers if user in list_sFollowing]\n",
    "\n",
    "for i in range(len(temp)):\n",
    "    userDoc = pFollower.find_one({\"userID\":temp[i]})\n",
    "    sFollowing.insert_one(userDoc)"
   ]
  },
  {
   "cell_type": "code",
   "execution_count": null,
   "metadata": {},
   "outputs": [],
   "source": [
    "# Add the new users to the secondaryFollowers Collection\n",
    "fields = [\"description\",\"location\",\"entities\",\"verified\",\"public_metrics\",\"profile_image_url\"]\n",
    "df_sFollowingEdges = pd.read_csv(\"sFollowing/edges.csv\")\n",
    "\n",
    "temp = [user for user in list_sFollowing if user not in list_pFollowers]\n",
    "\n",
    "_id = 0\n",
    "total_calls = math.ceil(len(temp) / 300)\n",
    "responseNumber = 1\n",
    "counter = 0\n",
    "\n",
    "for i in range(len(temp)):\n",
    "    if responseNumber == 300:\n",
    "        counter += 1\n",
    "        print(\"Call no. \" + str(counter) + \" of \" + str(total_calls))\n",
    "        responseNumber = 0\n",
    "    user = temp[i]\n",
    "    query = {\"_id\":_id}\n",
    "    test = sFollowing.find_one(query)\n",
    "    if type(test) != dict:\n",
    "        try:\n",
    "            responseNumber += 1\n",
    "            response = api.get_user(id=user, user_fields=fields)\n",
    "            userDoc = {\n",
    "                '_id':_id,\n",
    "                'username':response.data.username,\n",
    "                'userID':response.data.id,\n",
    "                'description':response.data.description,\n",
    "                'location':response.data.location,\n",
    "                'followers':response.data.public_metrics['followers_count'],\n",
    "                'following':response.data.public_metrics['following_count'],\n",
    "                'tweet_count':response.data.public_metrics['tweet_count'],\n",
    "                'verified':response.data.verified,\n",
    "                'profile_image_url':response.data.profile_image_url\n",
    "            }\n",
    "\n",
    "            sFollowing.insert_one(userDoc)\n",
    "        except:\n",
    "            print(str(user) + \" no longer exists\")\n",
    "            df_sFollowingEdges = df_sFollowingEdges.loc[df_sFollowingEdges['target'] != temp[i]]\n",
    "    else:\n",
    "        pass\n",
    "    _id += 1\n",
    "\n",
    "df_sFollowingEdges.to_csv('sFollowing/test.csv',index=False)"
   ]
  },
  {
   "cell_type": "code",
   "execution_count": 7,
   "metadata": {},
   "outputs": [],
   "source": [
    "# Add geocoded Data to the database\n",
    "query = {'location': {'$ne': None}}\n",
    "geoData = pd.DataFrame(list(sFollowing.find(query).sort(\"_id\",1)))\n",
    "\n",
    "geoData['lat'] = geoData['location'].apply(mongosna.geocode_lat)\n",
    "geoData['lng'] = geoData['location'].apply(mongosna.geocode_lng)\n",
    "\n",
    "lat = list(geoData['lat'])\n",
    "lng = list(geoData['lng'])\n",
    "geo_ids = list(geoData['_id'])\n",
    "iter = 0\n",
    "\n",
    "for id in geo_ids:\n",
    "    query = { '_id' : id }\n",
    "    value = { '$set' : { 'lat' : lat[iter], 'lng': lng[iter]}}\n",
    "    iter += 1\n",
    "    sFollowing.update_one(query,value)"
   ]
  },
  {
   "cell_type": "code",
   "execution_count": null,
   "metadata": {},
   "outputs": [],
   "source": [
    "# Check if user is in montana\n",
    "query = {\"location\": {\"$regex\": \".*mt.*|.*missoula.*|.*last best place.*|.*big sky.*\",\"$options\":\"i\"}}\n",
    "mt_users = pd.DataFrame(list(sFollowing.find(query)))\n",
    "mt_users['description'] = mt_users.replace({r'\\s+$': '', r'^\\s+': ''}, regex=True, inplace=True)\n",
    "\n",
    "# Add 'in_montana' column to DataFrame\n",
    "df_sFollowing.drop(columns=\"in_montana\",inplace=True)\n",
    "mt_ids = list(mt_users['userID'])\n",
    "user_id = list(df_sFollowing['userID'])\n",
    "bool_list = []\n",
    "\n",
    "for id in user_id:\n",
    "    if id in mt_ids:\n",
    "        bool_list.append(True)\n",
    "    else:\n",
    "        bool_list.append(False)\n",
    "df_sFollowing.insert(loc=10,column='in_montana',value=bool_list)\n",
    "\n",
    "# Add 'in_montana' to database\n",
    "\n",
    "in_montana = list(df_sFollowing['in_montana'])\n",
    "iter = 0\n",
    "for id in user_id:\n",
    "    query = { 'userID' : id }\n",
    "    value = { '$set' : { 'in_montana' : in_montana[iter]}}\n",
    "    iter += 1\n",
    "    sFollowing.update_one(query,value)\n"
   ]
  },
  {
   "cell_type": "markdown",
   "metadata": {},
   "source": [
    "## Combined Followers and Following\n",
    "### Exporting Database Aggregation\n",
    "We aggregate the data by matching:\n",
    "* `in_montana` as `true`,\n",
    "* `modularity_class` individually from 0 to 6<br>\n",
    "and then sorting the matches by \"betweenesscentrality\", \"eigencentrality\" and \"closnesscentrality\", which was obtained by analyzing the users using Gephi. We limit the output to 75 users and include just their username, centrality value and modularity class. Once we have obtained the top 75 users based on centrality, we search for users that are contained in all groups, inferring from the output that if a user is in all 3 groups, that they would be the most influential of that modularity class."
   ]
  },
  {
   "cell_type": "code",
   "execution_count": 83,
   "metadata": {},
   "outputs": [],
   "source": [
    "keywords = [\"betweenesscentrality\",\"closnesscentrality\",\"eigencentrality\"]\n",
    "\n",
    "for i in range(len(keywords)):\n",
    "    aggregation = [\n",
    "        { \"$match\": {'in_montana': True}},\n",
    "        { \"$sort\": {'{}'.format(keywords[i]): -1}},\n",
    "        { \"$limit\": 75},\n",
    "        { \"$project\": { \"_id\":0, \"Label\":1, \"{}\".format(keywords[i]):1, \"modularity_class\": 1}}\n",
    "    ]\n",
    "    test = pd.DataFrame(list(combined.aggregate(aggregation)))\n",
    "    test.to_csv(\"combined/{}.csv\".format(keywords[i]),index=False)\n",
    "    for t in range(7):\n",
    "        aggregation = [\n",
    "            { \"$match\": {\"$and\": [{'in_montana': True},{\"modularity_class\": t}]}},\n",
    "            { \"$sort\": {'{}'.format(keywords[i]): -1}},\n",
    "            { \"$limit\": 75},\n",
    "            { \"$project\": { \"Label\": 1, \"{}\".format(keywords[i]) : 1, \"_id\": 0, \"modularity_class\": 1}}\n",
    "        ]\n",
    "        test = pd.DataFrame(list(combined.aggregate(aggregation)))\n",
    "        test.to_csv(\"combined/modClass{}/{}.csv\".format(t,keywords[i]),index=False)"
   ]
  },
  {
   "cell_type": "code",
   "execution_count": 84,
   "metadata": {},
   "outputs": [],
   "source": [
    "bc_combined = pd.read_csv(\"combined/betweenesscentrality.csv\")\n",
    "cc_combined = pd.read_csv(\"combined/closnesscentrality.csv\")\n",
    "ec_combined = pd.read_csv(\"combined/eigencentrality.csv\")\n",
    "\n",
    "influencer_combined = list(set(bc_combined[\"Label\"]) & set(cc_combined[\"Label\"]) & set(ec_combined[\"Label\"]))\n",
    "influencers = pd.Series(influencer_combined)\n",
    "influencers.to_csv(\"combined/influencers.csv\",index=False)\n",
    "\n",
    "for i in range(7):\n",
    "    bc_df = pd.read_csv(\"combined/modClass{}/betweenesscentrality.csv\".format(i))\n",
    "    cc_df = pd.read_csv(\"combined/modClass{}/closnesscentrality.csv\".format(i))\n",
    "    ec_df = pd.read_csv(\"combined/modClass{}/eigencentrality.csv\".format(i))\n",
    "\n",
    "    influencers = list(set(bc_df[\"Label\"]) & set(cc_df[\"Label\"]) & set(ec_df[\"Label\"]))\n",
    "    temp = pd.Series(influencers)\n",
    "    temp.to_csv(\"combined/modClass{}/influencers.csv\".format(i),index=False)"
   ]
  }
 ],
 "metadata": {
  "kernelspec": {
   "display_name": "Python 3.8.13 ('sna')",
   "language": "python",
   "name": "python3"
  },
  "language_info": {
   "codemirror_mode": {
    "name": "ipython",
    "version": 3
   },
   "file_extension": ".py",
   "mimetype": "text/x-python",
   "name": "python",
   "nbconvert_exporter": "python",
   "pygments_lexer": "ipython3",
   "version": "3.8.13"
  },
  "orig_nbformat": 4,
  "vscode": {
   "interpreter": {
    "hash": "9031bf188e25d3bc949e5c8a042f665a15ac04e169b8b6b5e0691fc0c6e29585"
   }
  }
 },
 "nbformat": 4,
 "nbformat_minor": 2
}
